{
 "cells": [
  {
   "cell_type": "code",
   "execution_count": 1,
   "id": "5e8a026c",
   "metadata": {},
   "outputs": [],
   "source": [
    "# Import libraries\n",
    "import pandas as pd\n",
    "import matplotlib.pyplot as plt\n",
    "import seaborn as sns\n",
    "import numpy as np\n",
    "import scipy.stats as stats"
   ]
  },
  {
   "cell_type": "code",
   "execution_count": 2,
   "id": "8eb3c7b5",
   "metadata": {},
   "outputs": [
    {
     "name": "stderr",
     "output_type": "stream",
     "text": [
      "/var/folders/j2/rmqbhb596wb45h5h8ch5x2v80000gn/T/ipykernel_13240/1602592825.py:5: DtypeWarning: Columns (35) have mixed types. Specify dtype option on import or set low_memory=False.\n",
      "  first_half = pd.read_csv(f'{base_name}-1.csv', encoding='cp949')\n"
     ]
    }
   ],
   "source": [
    "import pandas as pd\n",
    "\n",
    "def merge_csv(base_name):\n",
    "    # Load the two halves from separate CSV files\n",
    "    first_half = pd.read_csv(f'{base_name}-1.csv', encoding='cp949')\n",
    "    second_half = pd.read_csv(f'{base_name}-2.csv', encoding='cp949')\n",
    "    \n",
    "    # Concatenate the two halves into a single DataFrame\n",
    "    data = pd.concat([first_half, second_half])\n",
    "    \n",
    "    # Keep only the specified columns (0-based indexing)\n",
    "    columns_to_keep = [0, 3, 15, 16, 17, 18]\n",
    "    data = data.iloc[:, columns_to_keep]\n",
    "    \n",
    "    # Remove rows with any NaN values\n",
    "    data = data.dropna()\n",
    "    \n",
    "    return data\n",
    "\n",
    "# Example usage\n",
    "for year in range(2013, 2023):\n",
    "    base_name = f'/Users/kimminji/Desktop/CDS 230/Final Project/국민건강보험공단_건강검진정보_{year}'\n",
    "    merged_data = merge_csv(base_name)\n",
    "    merged_data.to_csv(f'/Users/kimminji/Desktop/CDS 230/Final Project/merged_data_{year}.csv', index=False, encoding='cp949')\n"
   ]
  },
  {
   "cell_type": "code",
   "execution_count": 3,
   "id": "f65ad5bd",
   "metadata": {},
   "outputs": [],
   "source": [
    "import pandas as pd\n",
    "\n",
    "# Initialize an empty DataFrame to store merged data\n",
    "merged_data_all_years = pd.DataFrame()\n",
    "\n",
    "# Iterate over the range of years\n",
    "for year in range(2013, 2023):\n",
    "    # Read the CSV file for the current year\n",
    "    file_path = f'/Users/kimminji/Desktop/CDS 230/Final Project/merged_data_{year}.csv'\n",
    "    data_year = pd.read_csv(file_path, encoding='cp949')\n",
    "    \n",
    "    # Concatenate the data for the current year with the merged data\n",
    "    merged_data_all_years = pd.concat([merged_data_all_years, data_year])\n",
    "\n",
    "# Save the merged data for all years to a single CSV file\n",
    "merged_data_all_years.to_csv('/Users/kimminji/Desktop/CDS 230/Final Project/merged_data_all_years.csv', index=False, encoding='cp949')\n"
   ]
  },
  {
   "cell_type": "code",
   "execution_count": null,
   "id": "1385b4dd",
   "metadata": {},
   "outputs": [],
   "source": [
    "import pandas as pd\n",
    "import matplotlib.pyplot as plt\n",
    "\n",
    "# Load the merged data for all years\n",
    "merged_data_all_years = pd.read_csv('/Users/kimminji/Desktop/CDS 230/Final Project/merged_data_all_years.csv', encoding='cp949')\n",
    "\n",
    "# Define cholesterol categories\n",
    "def cholesterol_category(cholesterol):\n",
    "    if cholesterol < 200:\n",
    "        return 'Normal'\n",
    "    elif 200 <= cholesterol < 240:\n",
    "        return 'Borderline High'\n",
    "    else:\n",
    "        return 'High'\n",
    "\n",
    "# Apply cholesterol category function to 'Total Cholesterol' column\n",
    "merged_data_all_years['Cholesterol Category'] = merged_data_all_years.iloc[:, 2].apply(cholesterol_category)\n",
    "\n",
    "# Convert 'Year' column to datetime if it's not already\n",
    "if not pd.api.types.is_datetime64_any_dtype(merged_data_all_years.iloc[:, 0]):\n",
    "    merged_data_all_years.iloc[:, 0] = pd.to_datetime(merged_data_all_years.iloc[:, 0], format='%Y')\n",
    "\n",
    "# Plotting\n",
    "plt.figure(figsize=(10, 6))\n",
    "\n",
    "categories = ['Normal', 'Borderline High', 'High']\n",
    "colors = {'Normal': 'green', 'Borderline High': 'orange', 'High': 'red'}\n",
    "\n",
    "for category in categories:\n",
    "    data_category = merged_data_all_years[merged_data_all_years['Cholesterol Category'] == category]\n",
    "    plt.scatter(data_category.iloc[:, 0], data_category.iloc[:, 1], \n",
    "                color=colors[category], label=category, alpha=0.6)\n",
    "\n",
    "plt.title('Cholesterol Levels Over Years')\n",
    "plt.xlabel('Year')\n",
    "plt.ylabel('Age')\n",
    "plt.legend(title='Cholesterol Level')\n",
    "plt.grid(True)\n",
    "plt.tight_layout()\n",
    "plt.show()"
   ]
  },
  {
   "cell_type": "code",
   "execution_count": null,
   "id": "e5740114",
   "metadata": {},
   "outputs": [],
   "source": []
  }
 ],
 "metadata": {
  "kernelspec": {
   "display_name": "Python 3 (ipykernel)",
   "language": "python",
   "name": "python3"
  },
  "language_info": {
   "codemirror_mode": {
    "name": "ipython",
    "version": 3
   },
   "file_extension": ".py",
   "mimetype": "text/x-python",
   "name": "python",
   "nbconvert_exporter": "python",
   "pygments_lexer": "ipython3",
   "version": "3.9.13"
  }
 },
 "nbformat": 4,
 "nbformat_minor": 5
}
