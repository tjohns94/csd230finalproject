# Load Libraries
import pandas as pd
import matplotlib.pyplot as plt
import seaborn as sns

# Load a csv file
df = pd.read_csv('nhic_sample.csv')
pd.set_option('display.max_columns', None)
df

# Average sysbolic blood pressure levels of the insured by year
# index: 기준년도(year), filtering: 수축기혈압(Sysbolic Blood Pressure)
sbp = df.groupby('기준년도')['수축기혈압'].mean()

# Visualization
plt.figure(figsize=(10, 6))
sbp.plot(marker='o', linestyle='-', color='b')
plt.title('Average sysbolic blood pressure levels of the insured by year (2013-2022)', fontsize=16)
plt.xlabel('Year', fontsize=14)
plt.ylabel('Level', fontsize=14)
plt.grid(True)
plt.xticks(rotation=45)
plt.tight_layout()
plt.show()

# Averagediastolic pressure levels of the insured by year
# index: 기준년도(year), filtering: 이완기혈압(Diastolic Blood Pressure)
dbp = df.groupby('기준년도')['이완기혈압'].mean()

# Visualization
plt.figure(figsize=(10, 6))
dbp.plot(marker='o', linestyle='-', color='r')
plt.title('Average diastolic blood pressure levels of the insured by year (2013-2022)', fontsize=16)
plt.xlabel('Year', fontsize=14)
plt.ylabel('Level', fontsize=14)
plt.grid(True)
plt.xticks(rotation=45)
plt.tight_layout()
plt.show()

# Average Fasting Blood Sugar levels of the insured by year
# index: 기준년도(year), filtering: 식전혈당(공복혈당) (Fasting Blood Sugar)
fbg = df.groupby('기준년도')['식전혈당(공복혈당)'].mean()

# Visualization
plt.figure(figsize=(10, 6))
fbg.plot(marker='o', linestyle='-', color='g')

plt.title('Average fasting blood sugar levels of the insured by year (2013-2022)', fontsize=16)
plt.xlabel('Year', fontsize=14)
plt.ylabel('Level', fontsize=14)
plt.grid(True)
plt.xticks(rotation=45)
plt.tight_layout()
plt.show()
